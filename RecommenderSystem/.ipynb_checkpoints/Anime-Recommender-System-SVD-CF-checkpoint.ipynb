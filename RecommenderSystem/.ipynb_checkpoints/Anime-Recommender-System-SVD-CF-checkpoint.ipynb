{
 "cells": [
  {
   "cell_type": "code",
   "execution_count": 1,
   "id": "b452648d",
   "metadata": {},
   "outputs": [],
   "source": [
    "import pandas as pd\n",
    "import numpy as np\n",
    "\n",
    "from scipy.sparse import csr_matrix\n",
    "from scipy.sparse.linalg import svds\n",
    "from scipy.linalg import svd"
   ]
  },
  {
   "cell_type": "code",
   "execution_count": 2,
   "id": "018b135a",
   "metadata": {},
   "outputs": [],
   "source": [
    "# Find the highest similarity\n",
    "def cosine_similarity(v,u):\n",
    "    return (v @ u)/ (np.linalg.norm(v) * np.linalg.norm(u))\n",
    "\n",
    "# Get the factor number given the reconstruction percentage\n",
    "def get_k(sigma,percentage):\n",
    "    sigma_sqr=sigma**2 \n",
    "    sum_sigma_sqr=sum(sigma_sqr) \n",
    "    k_sum_sigma=0 \n",
    "    k=0\n",
    "    for i in sigma:\n",
    "        k_sum_sigma+=i**2\n",
    "        k+=1\n",
    "        if k_sum_sigma>=sum_sigma_sqr*percentage:            \n",
    "            return k"
   ]
  },
  {
   "cell_type": "code",
   "execution_count": 3,
   "id": "7b833328",
   "metadata": {},
   "outputs": [],
   "source": [
    "def svdEst(testdata,user,simMeas,item,percentage=0.9):\n",
    "    n=testdata.shape[1]\n",
    "    sim_total=0.0;\n",
    "    rat_sim_total=0.0\n",
    "    \n",
    "    # Need to find the best k by exploring\n",
    "    k=10\n",
    "    \n",
    "    u,sigma,vt=svd(testdata)\n",
    "    \n",
    "    #Construct the diagonal matrix     \n",
    "    sigma_k=np.diag(sigma[:k])    \n",
    "    \n",
    "    #Convert the original data to k-dimensional space (lower dimension) according to the value of k. formed_items represents the value of item in k-dimensional space after conversion.\n",
    "    formed_items=np.around(np.dot(np.dot(u[:,:k], sigma_k),vt[:k, :]),decimals=3)     \n",
    "    for j in range(n):\n",
    "        user_rating=testdata[user,j]\n",
    "        if user_rating==0 or j==item:continue\n",
    "        # the similarity between item and item j\n",
    "        similarity=simMeas(formed_items[item,:].T,formed_items[j,:].T) \n",
    "        sim_total+=similarity \n",
    "        # product of similarity and the rating of user to item j, then sum\n",
    "        rat_sim_total+=similarity*user_rating \n",
    "    if sim_total==0:\n",
    "        return 0\n",
    "    else:\n",
    "        return np.round(rat_sim_total/sim_total,decimals=3)\n",
    "\n",
    "def recommend(testdata,user,sim_meas,est_method, percentage=0.9):\n",
    "    unrated_items=np.nonzero(testdata[user,:]==0)[0].tolist()\n",
    "    if len(unrated_items)==0:\n",
    "        return print('everything is rated')\n",
    "    item_scores=[]\n",
    "    for item in unrated_items:\n",
    "        estimated_score=est_method(testdata,user,sim_meas,item,percentage)\n",
    "        item_scores.append((item,estimated_score))\n",
    "    item_scores=sorted(item_scores,key=lambda x:x[1],reverse=True)\n",
    "    return item_scores"
   ]
  },
  {
   "cell_type": "code",
   "execution_count": null,
   "id": "142b6500",
   "metadata": {},
   "outputs": [],
   "source": [
    "from datetime import datetime\n",
    "\n",
    "print(datetime.now().strftime(\"%H:%M:%S\"))\n",
    "recommend(reviewSparse,0,sim_meas=cosine_similarity,est_method=svdEst, percentage=0.9)\n",
    "print(datetime.now().strftime(\"%H:%M:%S\"))\n"
   ]
  },
  {
   "cell_type": "code",
   "execution_count": 6,
   "id": "8ba15780",
   "metadata": {},
   "outputs": [
    {
     "name": "stdout",
     "output_type": "stream",
     "text": [
      "(419943, 3)\n"
     ]
    }
   ],
   "source": [
    "# path with rating\n",
    "PATH = './data/anime/anime_ratings.dat'\n",
    "\n",
    "# import data\n",
    "df = pd.read_csv(PATH, sep='\\t')\n",
    "print(df.shape)\n",
    "\n",
    "reviewmatrix = df.pivot_table(index=\"User_ID\", columns=\"Anime_ID\", values=\"Feedback\").fillna(0)\n",
    "\n",
    "# convert to a csr matrix\n",
    "reviewSparse = reviewmatrix.values\n",
    "# reviewSparse = csr_matrix(reviewSparse)"
   ]
  },
  {
   "cell_type": "code",
   "execution_count": 103,
   "id": "9817171f",
   "metadata": {},
   "outputs": [],
   "source": [
    "# SVD on the data based on the csr matrix\n",
    "k=20\n",
    "u,sigma,vt=svd(reviewSparse)"
   ]
  },
  {
   "cell_type": "code",
   "execution_count": 106,
   "id": "ccb73a99",
   "metadata": {},
   "outputs": [
    {
     "name": "stdout",
     "output_type": "stream",
     "text": [
      "(4714, 4714) (4714,) (7157, 7157)\n"
     ]
    },
    {
     "data": {
      "text/plain": [
       "array([[ 4.500e-02,  1.988e+00,  1.380e-01, ...,  5.000e-03,  4.000e-03,\n",
       "        -1.000e-03],\n",
       "       [ 1.425e+00,  1.419e+00, -4.690e-01, ...,  1.000e-03, -3.000e-03,\n",
       "        -6.000e-03],\n",
       "       [ 1.039e+00,  7.210e-01,  2.500e-02, ...,  1.000e-03,  1.000e-03,\n",
       "         0.000e+00],\n",
       "       ...,\n",
       "       [ 1.360e-01,  1.571e+00,  2.810e-01, ...,  3.000e-03,  3.000e-03,\n",
       "         1.000e-03],\n",
       "       [ 5.700e-02,  5.900e-01, -2.800e-01, ...,  8.000e-03,  5.000e-03,\n",
       "        -1.000e-03],\n",
       "       [ 1.400e-02,  3.500e-02, -3.800e-02, ..., -0.000e+00,  1.000e-03,\n",
       "        -1.000e-03]])"
      ]
     },
     "execution_count": 106,
     "metadata": {},
     "output_type": "execute_result"
    }
   ],
   "source": [
    "print(u.shape, sigma.shape, vt.shape)\n",
    "sigma_k=np.diag(sigma[:k])\n",
    "formed_items=np.around(np.dot(np.dot(u[:,:k], sigma_k),vt[:k, :]),decimals=3)\n",
    "formed_items"
   ]
  },
  {
   "cell_type": "code",
   "execution_count": 108,
   "id": "3e9cca83",
   "metadata": {},
   "outputs": [
    {
     "data": {
      "text/plain": [
       "array([[8., 0., 5., ..., 0., 0., 0.],\n",
       "       [0., 0., 0., ..., 0., 0., 0.],\n",
       "       [0., 0., 0., ..., 0., 0., 0.],\n",
       "       ...,\n",
       "       [0., 0., 0., ..., 0., 0., 0.],\n",
       "       [0., 0., 0., ..., 0., 0., 0.],\n",
       "       [0., 0., 0., ..., 0., 0., 0.]])"
      ]
     },
     "execution_count": 108,
     "metadata": {},
     "output_type": "execute_result"
    }
   ],
   "source": [
    "reviewSparse"
   ]
  },
  {
   "cell_type": "code",
   "execution_count": null,
   "id": "5b649095",
   "metadata": {},
   "outputs": [],
   "source": [
    "from datetime import datetime\n",
    "\n",
    "print(datetime.now().strftime(\"%H:%M:%S\"))\n",
    "recommendation_0 = recommend(reviewSparse,0,sim_meas=cosine_similarity,est_method=svdEst, percentage=0.9)\n",
    "print(datetime.now().strftime(\"%H:%M:%S\"))"
   ]
  },
  {
   "cell_type": "code",
   "execution_count": null,
   "id": "3a1e95bb",
   "metadata": {},
   "outputs": [],
   "source": [
    "# path with rating\n",
    "PATH = './data/rating.csv'\n",
    "\n",
    "# import data\n",
    "df = pd.read_csv(PATH)\n",
    "print(df.shape)\n",
    "\n",
    "#-1 rating means the viewer has watched the anime but did not assign a rating, so in our case it is equivalent to NaN\n",
    "reviews = df.replace(-1,np.nan)\n",
    "\n",
    "reviewmatrix = reviews.pivot_table(index=\"user_id\", columns=\"anime_id\", values=\"rating\").fillna(0)\n",
    "\n",
    "# convert to a csr matrix\n",
    "reviewSparse = reviewmatrix.values\n",
    "reviewSparse = csr_matrix(reviewSparse)"
   ]
  }
 ],
 "metadata": {
  "kernelspec": {
   "display_name": "Python 3 (ipykernel)",
   "language": "python",
   "name": "python3"
  },
  "language_info": {
   "codemirror_mode": {
    "name": "ipython",
    "version": 3
   },
   "file_extension": ".py",
   "mimetype": "text/x-python",
   "name": "python",
   "nbconvert_exporter": "python",
   "pygments_lexer": "ipython3",
   "version": "3.8.13"
  }
 },
 "nbformat": 4,
 "nbformat_minor": 5
}
